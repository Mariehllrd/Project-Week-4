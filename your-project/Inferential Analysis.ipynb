{
 "cells": [
  {
   "cell_type": "markdown",
   "metadata": {},
   "source": [
    "### Importing Libraries"
   ]
  },
  {
   "cell_type": "code",
   "execution_count": 9,
   "metadata": {},
   "outputs": [],
   "source": [
    "import math\n",
    "import pandas as pd\n",
    "import numpy as np\n",
    "from scipy import stats\n",
    "import matplotlib.pyplot as plt\n",
    "from scipy.stats import ttest_rel\n",
    "pd.set_option('max_columns', 50)"
   ]
  },
  {
   "cell_type": "markdown",
   "metadata": {},
   "source": [
    "### Importing dataset"
   ]
  },
  {
   "cell_type": "code",
   "execution_count": 10,
   "metadata": {
    "scrolled": true
   },
   "outputs": [
    {
     "data": {
      "text/html": [
       "<div>\n",
       "<style scoped>\n",
       "    .dataframe tbody tr th:only-of-type {\n",
       "        vertical-align: middle;\n",
       "    }\n",
       "\n",
       "    .dataframe tbody tr th {\n",
       "        vertical-align: top;\n",
       "    }\n",
       "\n",
       "    .dataframe thead th {\n",
       "        text-align: right;\n",
       "    }\n",
       "</style>\n",
       "<table border=\"1\" class=\"dataframe\">\n",
       "  <thead>\n",
       "    <tr style=\"text-align: right;\">\n",
       "      <th></th>\n",
       "      <th>Country</th>\n",
       "      <th>Vaccines are not important for children to have (%)</th>\n",
       "      <th>Vaccines are not safe (%)</th>\n",
       "      <th>Vaccines are not effective (%)</th>\n",
       "      <th>Overall Avg. (%)</th>\n",
       "      <th>% of one years-old not vaccinated</th>\n",
       "      <th>Vaccination policy</th>\n",
       "    </tr>\n",
       "  </thead>\n",
       "  <tbody>\n",
       "    <tr>\n",
       "      <td>0</td>\n",
       "      <td>Afghanistan</td>\n",
       "      <td>2.10</td>\n",
       "      <td>4.47</td>\n",
       "      <td>1.84</td>\n",
       "      <td>2.803333</td>\n",
       "      <td>34.0</td>\n",
       "      <td>NaN</td>\n",
       "    </tr>\n",
       "    <tr>\n",
       "      <td>1</td>\n",
       "      <td>Albania</td>\n",
       "      <td>1.67</td>\n",
       "      <td>15.85</td>\n",
       "      <td>8.96</td>\n",
       "      <td>8.826667</td>\n",
       "      <td>1.0</td>\n",
       "      <td>NaN</td>\n",
       "    </tr>\n",
       "    <tr>\n",
       "      <td>2</td>\n",
       "      <td>Algeria</td>\n",
       "      <td>3.70</td>\n",
       "      <td>11.28</td>\n",
       "      <td>7.70</td>\n",
       "      <td>7.560000</td>\n",
       "      <td>9.0</td>\n",
       "      <td>NaN</td>\n",
       "    </tr>\n",
       "    <tr>\n",
       "      <td>3</td>\n",
       "      <td>Argentina</td>\n",
       "      <td>1.21</td>\n",
       "      <td>4.85</td>\n",
       "      <td>2.95</td>\n",
       "      <td>3.003333</td>\n",
       "      <td>14.0</td>\n",
       "      <td>NaN</td>\n",
       "    </tr>\n",
       "    <tr>\n",
       "      <td>4</td>\n",
       "      <td>Armenia</td>\n",
       "      <td>12.18</td>\n",
       "      <td>20.57</td>\n",
       "      <td>12.47</td>\n",
       "      <td>15.073333</td>\n",
       "      <td>8.0</td>\n",
       "      <td>NaN</td>\n",
       "    </tr>\n",
       "  </tbody>\n",
       "</table>\n",
       "</div>"
      ],
      "text/plain": [
       "       Country  Vaccines are not important for children to have (%)  \\\n",
       "0  Afghanistan                                               2.10     \n",
       "1      Albania                                               1.67     \n",
       "2      Algeria                                               3.70     \n",
       "3    Argentina                                               1.21     \n",
       "4      Armenia                                              12.18     \n",
       "\n",
       "   Vaccines are not safe (%)  Vaccines are not effective (%)  \\\n",
       "0                       4.47                            1.84   \n",
       "1                      15.85                            8.96   \n",
       "2                      11.28                            7.70   \n",
       "3                       4.85                            2.95   \n",
       "4                      20.57                           12.47   \n",
       "\n",
       "   Overall Avg. (%)  % of one years-old not vaccinated Vaccination policy  \n",
       "0          2.803333                               34.0                NaN  \n",
       "1          8.826667                                1.0                NaN  \n",
       "2          7.560000                                9.0                NaN  \n",
       "3          3.003333                               14.0                NaN  \n",
       "4         15.073333                                8.0                NaN  "
      ]
     },
     "execution_count": 10,
     "metadata": {},
     "output_type": "execute_result"
    }
   ],
   "source": [
    "df = pd.read_csv('./datasets/dataset_clean.csv')\n",
    "df = df.drop('Unnamed: 0', axis = 1)\n",
    "df.head()"
   ]
  },
  {
   "cell_type": "code",
   "execution_count": 11,
   "metadata": {},
   "outputs": [
    {
     "data": {
      "text/plain": [
       "array([nan, 'RA', 'MA'], dtype=object)"
      ]
     },
     "execution_count": 11,
     "metadata": {},
     "output_type": "execute_result"
    }
   ],
   "source": [
    "df['Vaccination policy'].unique()"
   ]
  },
  {
   "cell_type": "markdown",
   "metadata": {},
   "source": [
    "## Matched Pairs Test"
   ]
  },
  {
   "cell_type": "code",
   "execution_count": 15,
   "metadata": {},
   "outputs": [],
   "source": [
    "# Separating country with mandatory vaccination policy from the others\n",
    "mandatory = df.loc[df['Vaccination policy'] == 'MA']\n",
    "not_mandatory = df.loc[(df['Vaccination policy'] != 'MA') & (df['Vaccination policy'] != 'RA')]\n",
    "recommended = df.loc[df['Vaccination policy'] == 'RA']"
   ]
  },
  {
   "cell_type": "code",
   "execution_count": 16,
   "metadata": {},
   "outputs": [
    {
     "name": "stdout",
     "output_type": "stream",
     "text": [
      "Countries with mandatory vaccination policy:\n",
      "T-Value:  -1.7295783540481857\n",
      "P-Value:  0.11776295568423537\n",
      "Countries with no mandatory vaccination policy:\n",
      "T-Value:  -8.879513786171822\n",
      "P-Value:  2.1237453375016956e-14\n",
      "Countries with recommended vaccination policy:\n",
      "T-Value:  -2.5004785638519773\n",
      "P-Value:  0.024482666087043525\n"
     ]
    }
   ],
   "source": [
    "mandatory_ttest = ttest_rel(mandatory['Vaccines are not important for children to have (%)'],\n",
    "                            mandatory['% of one years-old not vaccinated'])\n",
    "\n",
    "not_mandatory_ttest = ttest_rel(not_mandatory['Vaccines are not important for children to have (%)'],\n",
    "                            not_mandatory['% of one years-old not vaccinated'])\n",
    "\n",
    "recommended_ttest = ttest_rel(recommended['Vaccines are not important for children to have (%)'],\n",
    "                            recommended['% of one years-old not vaccinated'])\n",
    "\n",
    "print(\"Countries with mandatory vaccination policy:\")\n",
    "print(\"T-Value: \", mandatory_ttest[0])\n",
    "print(\"P-Value: \", mandatory_ttest[1])\n",
    "\n",
    "print(\"Countries with no mandatory vaccination policy:\")\n",
    "print(\"T-Value: \", not_mandatory_ttest[0])\n",
    "print(\"P-Value: \", not_mandatory_ttest[1])\n",
    "\n",
    "print(\"Countries with recommended vaccination policy:\")\n",
    "print(\"T-Value: \", recommended_ttest[0])\n",
    "print(\"P-Value: \", recommended_ttest[1])"
   ]
  },
  {
   "cell_type": "markdown",
   "metadata": {},
   "source": [
    "Countries with mandatory vaccination policy: \n",
    "- P-Value is higher than 0.05: there is no significant difference between the mean of the share that disagree that vaccines are important for children to have and the mean of the percentage of one years-old not vaccinated. The null hypothesis cannot be rejected.\n",
    "- The distribution of the share that disagree that vaccines are important for children to have is similar to the distribution of the percentage of one years-old not vaccinated.\n",
    "\n",
    "Countries with no mandatory vaccination policy:\n",
    "- P-Value is lower than 0.05: there is a significant difference between the mean of the share that disagree that vaccines are important for children to have and the mean of the percentage of one years-old not vaccinated. The null hypothesis can be rejected.\n",
    "- Mean % of one years-old not vaccinated is larger than the mean of Vaccines are not important for children to have (%): lot of children not vaccinated but not so many people thinking that it's not important"
   ]
  },
  {
   "cell_type": "code",
   "execution_count": 14,
   "metadata": {
    "scrolled": true
   },
   "outputs": [
    {
     "name": "stdout",
     "output_type": "stream",
     "text": [
      "2.8523966942148746\n",
      "12.958677685950413\n"
     ]
    }
   ],
   "source": [
    "# Confirming mean difference for countries with no mandatory vaccination policy\n",
    "print(not_mandatory['Vaccines are not important for children to have (%)'].mean())\n",
    "print(not_mandatory['% of one years-old not vaccinated'].mean())"
   ]
  }
 ],
 "metadata": {
  "kernelspec": {
   "display_name": "Python 3",
   "language": "python",
   "name": "python3"
  },
  "language_info": {
   "codemirror_mode": {
    "name": "ipython",
    "version": 3
   },
   "file_extension": ".py",
   "mimetype": "text/x-python",
   "name": "python",
   "nbconvert_exporter": "python",
   "pygments_lexer": "ipython3",
   "version": "3.7.4"
  }
 },
 "nbformat": 4,
 "nbformat_minor": 2
}
